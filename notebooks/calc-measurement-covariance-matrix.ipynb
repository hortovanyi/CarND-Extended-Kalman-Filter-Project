{
 "cells": [
  {
   "cell_type": "code",
   "execution_count": 1,
   "metadata": {
    "collapsed": true
   },
   "outputs": [],
   "source": [
    "import pandas as pd\n",
    "import math\n",
    "import numpy as np\n",
    "import matplotlib.pyplot as plt\n",
    "from scipy.optimize import curve_fit\n",
    "%matplotlib inline"
   ]
  },
  {
   "cell_type": "code",
   "execution_count": 2,
   "metadata": {
    "collapsed": false
   },
   "outputs": [],
   "source": [
    "my_cols=['c1','c2','c3','c4','c5','c6','c7','c8','c9']\n",
    "with open('../data/sample-laser-radar-measurement-data-1.txt') as f:\n",
    "    table1 = pd.read_table(f, sep='\\t', header=None, names=my_cols, lineterminator='\\n')\n",
    "    \n",
    "with open('../data/sample-laser-radar-measurement-data-2.txt') as f:\n",
    "    table2 = pd.read_table(f, sep='\\t', header=None, names=my_cols, lineterminator='\\n')\n",
    "    \n",
    "table = pd.concat([table1,table2])\n",
    "laser_df = table[table['c1']=='L']\n",
    "del laser_df['c9']\n",
    "del laser_df['c1']\n",
    "laser_df.columns = ['x','y','timestamp','gpx','gpy','gvx','gvy']\n",
    "\n",
    "radar_df = table[table['c1']=='R']\n",
    "del radar_df['c1']\n",
    "radar_df.columns = ['rho','phi','rho_dot','timestamp','gpx','gpy','gvx','gvy']"
   ]
  },
  {
   "cell_type": "code",
   "execution_count": 3,
   "metadata": {
    "collapsed": false
   },
   "outputs": [
    {
     "data": {
      "text/html": [
       "<div>\n",
       "<table border=\"1\" class=\"dataframe\">\n",
       "  <thead>\n",
       "    <tr style=\"text-align: right;\">\n",
       "      <th></th>\n",
       "      <th>x</th>\n",
       "      <th>y</th>\n",
       "      <th>timestamp</th>\n",
       "      <th>gpx</th>\n",
       "      <th>gpy</th>\n",
       "      <th>gvx</th>\n",
       "      <th>gvy</th>\n",
       "    </tr>\n",
       "  </thead>\n",
       "  <tbody>\n",
       "    <tr>\n",
       "      <th>1</th>\n",
       "      <td>8.44818</td>\n",
       "      <td>0.251553</td>\n",
       "      <td>1.477010e+15</td>\n",
       "      <td>8.45</td>\n",
       "      <td>0.25</td>\n",
       "      <td>-3.00027</td>\n",
       "      <td>0.00000</td>\n",
       "    </tr>\n",
       "    <tr>\n",
       "      <th>3</th>\n",
       "      <td>8.45582</td>\n",
       "      <td>0.253997</td>\n",
       "      <td>1.477010e+15</td>\n",
       "      <td>8.45</td>\n",
       "      <td>0.25</td>\n",
       "      <td>0.00000</td>\n",
       "      <td>0.00000</td>\n",
       "    </tr>\n",
       "    <tr>\n",
       "      <th>5</th>\n",
       "      <td>8.23962</td>\n",
       "      <td>0.249160</td>\n",
       "      <td>1.477010e+15</td>\n",
       "      <td>8.25</td>\n",
       "      <td>0.25</td>\n",
       "      <td>-1.81978</td>\n",
       "      <td>0.00000</td>\n",
       "    </tr>\n",
       "    <tr>\n",
       "      <th>7</th>\n",
       "      <td>7.84073</td>\n",
       "      <td>0.159858</td>\n",
       "      <td>1.477010e+15</td>\n",
       "      <td>7.85</td>\n",
       "      <td>0.15</td>\n",
       "      <td>-3.99972</td>\n",
       "      <td>-0.99993</td>\n",
       "    </tr>\n",
       "    <tr>\n",
       "      <th>9</th>\n",
       "      <td>7.54016</td>\n",
       "      <td>0.159641</td>\n",
       "      <td>1.477010e+15</td>\n",
       "      <td>7.55</td>\n",
       "      <td>0.15</td>\n",
       "      <td>-2.99982</td>\n",
       "      <td>0.00000</td>\n",
       "    </tr>\n",
       "  </tbody>\n",
       "</table>\n",
       "</div>"
      ],
      "text/plain": [
       "         x         y     timestamp   gpx   gpy      gvx      gvy\n",
       "1  8.44818  0.251553  1.477010e+15  8.45  0.25 -3.00027  0.00000\n",
       "3  8.45582  0.253997  1.477010e+15  8.45  0.25  0.00000  0.00000\n",
       "5  8.23962  0.249160  1.477010e+15  8.25  0.25 -1.81978  0.00000\n",
       "7  7.84073  0.159858  1.477010e+15  7.85  0.15 -3.99972 -0.99993\n",
       "9  7.54016  0.159641  1.477010e+15  7.55  0.15 -2.99982  0.00000"
      ]
     },
     "execution_count": 3,
     "metadata": {},
     "output_type": "execute_result"
    }
   ],
   "source": [
    "laser_df.head(5)"
   ]
  },
  {
   "cell_type": "code",
   "execution_count": 4,
   "metadata": {
    "collapsed": false
   },
   "outputs": [
    {
     "data": {
      "text/html": [
       "<div>\n",
       "<table border=\"1\" class=\"dataframe\">\n",
       "  <thead>\n",
       "    <tr style=\"text-align: right;\">\n",
       "      <th></th>\n",
       "      <th>rho</th>\n",
       "      <th>phi</th>\n",
       "      <th>rho_dot</th>\n",
       "      <th>timestamp</th>\n",
       "      <th>gpx</th>\n",
       "      <th>gpy</th>\n",
       "      <th>gvx</th>\n",
       "      <th>gvy</th>\n",
       "    </tr>\n",
       "  </thead>\n",
       "  <tbody>\n",
       "    <tr>\n",
       "      <th>0</th>\n",
       "      <td>8.46642</td>\n",
       "      <td>0.028760</td>\n",
       "      <td>-3.040350</td>\n",
       "      <td>1.477010e+15</td>\n",
       "      <td>8.60</td>\n",
       "      <td>0.25</td>\n",
       "      <td>-3.00029</td>\n",
       "      <td>0.00000</td>\n",
       "    </tr>\n",
       "    <tr>\n",
       "      <th>2</th>\n",
       "      <td>8.57101</td>\n",
       "      <td>0.028232</td>\n",
       "      <td>-0.010526</td>\n",
       "      <td>1.477010e+15</td>\n",
       "      <td>8.45</td>\n",
       "      <td>0.25</td>\n",
       "      <td>0.00000</td>\n",
       "      <td>0.00000</td>\n",
       "    </tr>\n",
       "    <tr>\n",
       "      <th>4</th>\n",
       "      <td>8.42927</td>\n",
       "      <td>0.030143</td>\n",
       "      <td>-1.858130</td>\n",
       "      <td>1.477010e+15</td>\n",
       "      <td>8.35</td>\n",
       "      <td>0.25</td>\n",
       "      <td>-1.81979</td>\n",
       "      <td>0.00000</td>\n",
       "    </tr>\n",
       "    <tr>\n",
       "      <th>6</th>\n",
       "      <td>7.93510</td>\n",
       "      <td>0.023744</td>\n",
       "      <td>-3.810770</td>\n",
       "      <td>1.477010e+15</td>\n",
       "      <td>8.05</td>\n",
       "      <td>0.20</td>\n",
       "      <td>-3.99976</td>\n",
       "      <td>-0.99994</td>\n",
       "    </tr>\n",
       "    <tr>\n",
       "      <th>8</th>\n",
       "      <td>7.61428</td>\n",
       "      <td>0.020465</td>\n",
       "      <td>-3.220520</td>\n",
       "      <td>1.477010e+15</td>\n",
       "      <td>7.70</td>\n",
       "      <td>0.15</td>\n",
       "      <td>-2.99982</td>\n",
       "      <td>0.00000</td>\n",
       "    </tr>\n",
       "  </tbody>\n",
       "</table>\n",
       "</div>"
      ],
      "text/plain": [
       "       rho       phi   rho_dot     timestamp   gpx   gpy      gvx      gvy\n",
       "0  8.46642  0.028760 -3.040350  1.477010e+15  8.60  0.25 -3.00029  0.00000\n",
       "2  8.57101  0.028232 -0.010526  1.477010e+15  8.45  0.25  0.00000  0.00000\n",
       "4  8.42927  0.030143 -1.858130  1.477010e+15  8.35  0.25 -1.81979  0.00000\n",
       "6  7.93510  0.023744 -3.810770  1.477010e+15  8.05  0.20 -3.99976 -0.99994\n",
       "8  7.61428  0.020465 -3.220520  1.477010e+15  7.70  0.15 -2.99982  0.00000"
      ]
     },
     "execution_count": 4,
     "metadata": {},
     "output_type": "execute_result"
    }
   ],
   "source": [
    "radar_df.head(5)"
   ]
  },
  {
   "cell_type": "code",
   "execution_count": 5,
   "metadata": {
    "collapsed": false
   },
   "outputs": [],
   "source": [
    "xdata=np.array(laser_df['x'].values)\n",
    "gpxdata=np.array(laser_df['gpx'].values)\n",
    "vxdata=gpxdata-xdata\n",
    "ydata=np.array(laser_df['y'].values)\n",
    "gpydata=np.array(laser_df['gpy'].values)\n",
    "vydata=gpydata-ydata"
   ]
  },
  {
   "cell_type": "code",
   "execution_count": 6,
   "metadata": {
    "collapsed": false
   },
   "outputs": [],
   "source": [
    "def calc_hx(gpx,gpy,gvx,gvy):\n",
    "    if gpx == 0:\n",
    "        return 0,0,0\n",
    "    rho = math.sqrt(gpx*gpx + gpy*gpy)\n",
    "    phi = math.atan(gpy/gpx)\n",
    "    rho_dot = (gpx*gvx + gpy*gvy)/rho\n",
    "    return np.array([rho,phi,rho_dot])"
   ]
  },
  {
   "cell_type": "code",
   "execution_count": 7,
   "metadata": {
    "collapsed": false
   },
   "outputs": [
    {
     "data": {
      "text/plain": [
       "array([ 2.09961656,  0.0248752 ,  2.19798918])"
      ]
     },
     "execution_count": 7,
     "metadata": {},
     "output_type": "execute_result"
    }
   ],
   "source": [
    "calc_hx(2.098967,0.052223,2.195949,0.109339)"
   ]
  },
  {
   "cell_type": "code",
   "execution_count": 8,
   "metadata": {
    "collapsed": false
   },
   "outputs": [
    {
     "data": {
      "text/plain": [
       "(0, 0, 0)"
      ]
     },
     "execution_count": 8,
     "metadata": {},
     "output_type": "execute_result"
    }
   ],
   "source": [
    "calc_hx(0,0,0,0)"
   ]
  },
  {
   "cell_type": "code",
   "execution_count": 9,
   "metadata": {
    "collapsed": false
   },
   "outputs": [
    {
     "data": {
      "text/html": [
       "<div>\n",
       "<table border=\"1\" class=\"dataframe\">\n",
       "  <thead>\n",
       "    <tr style=\"text-align: right;\">\n",
       "      <th></th>\n",
       "      <th>rho</th>\n",
       "      <th>phi</th>\n",
       "      <th>rho_dot</th>\n",
       "      <th>grho</th>\n",
       "      <th>gphi</th>\n",
       "      <th>grho_dot</th>\n",
       "    </tr>\n",
       "  </thead>\n",
       "  <tbody>\n",
       "    <tr>\n",
       "      <th>0</th>\n",
       "      <td>8.46642</td>\n",
       "      <td>0.028760</td>\n",
       "      <td>-3.040350</td>\n",
       "      <td>8.603633</td>\n",
       "      <td>2.906158e-02</td>\n",
       "      <td>-2.999023</td>\n",
       "    </tr>\n",
       "    <tr>\n",
       "      <th>1</th>\n",
       "      <td>8.57101</td>\n",
       "      <td>0.028232</td>\n",
       "      <td>-0.010526</td>\n",
       "      <td>8.453697</td>\n",
       "      <td>2.957717e-02</td>\n",
       "      <td>0.000000</td>\n",
       "    </tr>\n",
       "    <tr>\n",
       "      <th>2</th>\n",
       "      <td>8.42927</td>\n",
       "      <td>0.030143</td>\n",
       "      <td>-1.858130</td>\n",
       "      <td>8.353742</td>\n",
       "      <td>2.993118e-02</td>\n",
       "      <td>-1.818975</td>\n",
       "    </tr>\n",
       "    <tr>\n",
       "      <th>3</th>\n",
       "      <td>7.93510</td>\n",
       "      <td>0.023744</td>\n",
       "      <td>-3.810770</td>\n",
       "      <td>8.052484</td>\n",
       "      <td>2.483961e-02</td>\n",
       "      <td>-4.023362</td>\n",
       "    </tr>\n",
       "    <tr>\n",
       "      <th>4</th>\n",
       "      <td>7.61428</td>\n",
       "      <td>0.020465</td>\n",
       "      <td>-3.220520</td>\n",
       "      <td>7.701461</td>\n",
       "      <td>1.947806e-02</td>\n",
       "      <td>-2.999251</td>\n",
       "    </tr>\n",
       "    <tr>\n",
       "      <th>5</th>\n",
       "      <td>7.50876</td>\n",
       "      <td>0.012703</td>\n",
       "      <td>-1.897650</td>\n",
       "      <td>7.450671</td>\n",
       "      <td>1.342215e-02</td>\n",
       "      <td>-1.828527</td>\n",
       "    </tr>\n",
       "    <tr>\n",
       "      <th>6</th>\n",
       "      <td>7.20598</td>\n",
       "      <td>0.000684</td>\n",
       "      <td>-2.795360</td>\n",
       "      <td>7.200000</td>\n",
       "      <td>1.319374e-07</td>\n",
       "      <td>-2.728510</td>\n",
       "    </tr>\n",
       "    <tr>\n",
       "      <th>7</th>\n",
       "      <td>6.74737</td>\n",
       "      <td>-0.021222</td>\n",
       "      <td>-1.670690</td>\n",
       "      <td>6.951619</td>\n",
       "      <td>-2.157938e-02</td>\n",
       "      <td>-1.779307</td>\n",
       "    </tr>\n",
       "    <tr>\n",
       "      <th>8</th>\n",
       "      <td>6.67866</td>\n",
       "      <td>-0.051930</td>\n",
       "      <td>-2.023790</td>\n",
       "      <td>6.759068</td>\n",
       "      <td>-5.180531e-02</td>\n",
       "      <td>-1.894473</td>\n",
       "    </tr>\n",
       "    <tr>\n",
       "      <th>9</th>\n",
       "      <td>6.63205</td>\n",
       "      <td>-0.084090</td>\n",
       "      <td>-0.814970</td>\n",
       "      <td>6.622877</td>\n",
       "      <td>-8.314108e-02</td>\n",
       "      <td>-0.829487</td>\n",
       "    </tr>\n",
       "    <tr>\n",
       "      <th>10</th>\n",
       "      <td>6.46217</td>\n",
       "      <td>-0.130812</td>\n",
       "      <td>-0.356062</td>\n",
       "      <td>6.555341</td>\n",
       "      <td>-1.300314e-01</td>\n",
       "      <td>-0.429745</td>\n",
       "    </tr>\n",
       "    <tr>\n",
       "      <th>11</th>\n",
       "      <td>6.49021</td>\n",
       "      <td>-0.179219</td>\n",
       "      <td>-1.239440</td>\n",
       "      <td>6.453294</td>\n",
       "      <td>-1.791605e-01</td>\n",
       "      <td>-1.465706</td>\n",
       "    </tr>\n",
       "    <tr>\n",
       "      <th>12</th>\n",
       "      <td>6.59968</td>\n",
       "      <td>-0.226407</td>\n",
       "      <td>1.738350</td>\n",
       "      <td>6.464712</td>\n",
       "      <td>-2.262191e-01</td>\n",
       "      <td>1.702755</td>\n",
       "    </tr>\n",
       "    <tr>\n",
       "      <th>13</th>\n",
       "      <td>6.57796</td>\n",
       "      <td>-0.279439</td>\n",
       "      <td>-0.211523</td>\n",
       "      <td>6.552099</td>\n",
       "      <td>-2.782997e-01</td>\n",
       "      <td>-0.137286</td>\n",
       "    </tr>\n",
       "    <tr>\n",
       "      <th>14</th>\n",
       "      <td>6.66141</td>\n",
       "      <td>-0.322252</td>\n",
       "      <td>1.756890</td>\n",
       "      <td>6.640783</td>\n",
       "      <td>-3.217506e-01</td>\n",
       "      <td>1.897332</td>\n",
       "    </tr>\n",
       "    <tr>\n",
       "      <th>15</th>\n",
       "      <td>6.76596</td>\n",
       "      <td>-0.362640</td>\n",
       "      <td>0.855484</td>\n",
       "      <td>6.788409</td>\n",
       "      <td>-3.613569e-01</td>\n",
       "      <td>0.963806</td>\n",
       "    </tr>\n",
       "    <tr>\n",
       "      <th>16</th>\n",
       "      <td>6.98232</td>\n",
       "      <td>-0.399959</td>\n",
       "      <td>1.898050</td>\n",
       "      <td>6.946222</td>\n",
       "      <td>-3.992208e-01</td>\n",
       "      <td>1.898553</td>\n",
       "    </tr>\n",
       "    <tr>\n",
       "      <th>17</th>\n",
       "      <td>7.12938</td>\n",
       "      <td>-0.435020</td>\n",
       "      <td>1.414900</td>\n",
       "      <td>7.113543</td>\n",
       "      <td>-4.353533e-01</td>\n",
       "      <td>1.264155</td>\n",
       "    </tr>\n",
       "    <tr>\n",
       "      <th>18</th>\n",
       "      <td>7.31886</td>\n",
       "      <td>-0.470836</td>\n",
       "      <td>2.212890</td>\n",
       "      <td>7.289719</td>\n",
       "      <td>-4.697825e-01</td>\n",
       "      <td>2.048169</td>\n",
       "    </tr>\n",
       "    <tr>\n",
       "      <th>19</th>\n",
       "      <td>7.54560</td>\n",
       "      <td>-0.496140</td>\n",
       "      <td>2.709110</td>\n",
       "      <td>7.561911</td>\n",
       "      <td>-4.961805e-01</td>\n",
       "      <td>2.895763</td>\n",
       "    </tr>\n",
       "    <tr>\n",
       "      <th>20</th>\n",
       "      <td>7.88400</td>\n",
       "      <td>-0.521437</td>\n",
       "      <td>2.206190</td>\n",
       "      <td>7.839005</td>\n",
       "      <td>-5.207284e-01</td>\n",
       "      <td>2.142844</td>\n",
       "    </tr>\n",
       "    <tr>\n",
       "      <th>21</th>\n",
       "      <td>8.04387</td>\n",
       "      <td>-0.547179</td>\n",
       "      <td>2.239870</td>\n",
       "      <td>8.077747</td>\n",
       "      <td>-5.467888e-01</td>\n",
       "      <td>2.195172</td>\n",
       "    </tr>\n",
       "    <tr>\n",
       "      <th>22</th>\n",
       "      <td>8.36350</td>\n",
       "      <td>-0.567708</td>\n",
       "      <td>1.675280</td>\n",
       "      <td>8.294727</td>\n",
       "      <td>-5.662669e-01</td>\n",
       "      <td>1.744460</td>\n",
       "    </tr>\n",
       "    <tr>\n",
       "      <th>23</th>\n",
       "      <td>8.50541</td>\n",
       "      <td>-0.582556</td>\n",
       "      <td>2.234090</td>\n",
       "      <td>8.514693</td>\n",
       "      <td>-5.847453e-01</td>\n",
       "      <td>2.261494</td>\n",
       "    </tr>\n",
       "    <tr>\n",
       "      <th>24</th>\n",
       "      <td>8.88902</td>\n",
       "      <td>-0.604494</td>\n",
       "      <td>3.057650</td>\n",
       "      <td>8.806957</td>\n",
       "      <td>-6.037493e-01</td>\n",
       "      <td>3.046604</td>\n",
       "    </tr>\n",
       "    <tr>\n",
       "      <th>25</th>\n",
       "      <td>8.97814</td>\n",
       "      <td>-0.622421</td>\n",
       "      <td>2.428270</td>\n",
       "      <td>9.102198</td>\n",
       "      <td>-6.215266e-01</td>\n",
       "      <td>2.324825</td>\n",
       "    </tr>\n",
       "    <tr>\n",
       "      <th>26</th>\n",
       "      <td>9.47620</td>\n",
       "      <td>-0.634680</td>\n",
       "      <td>2.540480</td>\n",
       "      <td>9.370432</td>\n",
       "      <td>-6.338963e-01</td>\n",
       "      <td>2.544023</td>\n",
       "    </tr>\n",
       "    <tr>\n",
       "      <th>27</th>\n",
       "      <td>9.53172</td>\n",
       "      <td>-0.647271</td>\n",
       "      <td>2.403060</td>\n",
       "      <td>9.640021</td>\n",
       "      <td>-6.455758e-01</td>\n",
       "      <td>2.368963</td>\n",
       "    </tr>\n",
       "    <tr>\n",
       "      <th>28</th>\n",
       "      <td>9.89957</td>\n",
       "      <td>-0.659824</td>\n",
       "      <td>3.585300</td>\n",
       "      <td>9.941454</td>\n",
       "      <td>-6.606021e-01</td>\n",
       "      <td>3.417629</td>\n",
       "    </tr>\n",
       "    <tr>\n",
       "      <th>29</th>\n",
       "      <td>10.40990</td>\n",
       "      <td>-0.667850</td>\n",
       "      <td>2.532180</td>\n",
       "      <td>10.253048</td>\n",
       "      <td>-6.678865e-01</td>\n",
       "      <td>2.552444</td>\n",
       "    </tr>\n",
       "    <tr>\n",
       "      <th>...</th>\n",
       "      <td>...</td>\n",
       "      <td>...</td>\n",
       "      <td>...</td>\n",
       "      <td>...</td>\n",
       "      <td>...</td>\n",
       "      <td>...</td>\n",
       "    </tr>\n",
       "    <tr>\n",
       "      <th>682</th>\n",
       "      <td>135.91930</td>\n",
       "      <td>0.108050</td>\n",
       "      <td>2.575841</td>\n",
       "      <td>135.924341</td>\n",
       "      <td>1.124411e-01</td>\n",
       "      <td>2.669229</td>\n",
       "    </tr>\n",
       "    <tr>\n",
       "      <th>683</th>\n",
       "      <td>138.64030</td>\n",
       "      <td>0.119401</td>\n",
       "      <td>2.882208</td>\n",
       "      <td>138.584721</td>\n",
       "      <td>1.168676e-01</td>\n",
       "      <td>2.713976</td>\n",
       "    </tr>\n",
       "    <tr>\n",
       "      <th>684</th>\n",
       "      <td>141.39660</td>\n",
       "      <td>0.124353</td>\n",
       "      <td>2.863862</td>\n",
       "      <td>141.289964</td>\n",
       "      <td>1.218480e-01</td>\n",
       "      <td>2.751037</td>\n",
       "    </tr>\n",
       "    <tr>\n",
       "      <th>685</th>\n",
       "      <td>143.77530</td>\n",
       "      <td>0.126547</td>\n",
       "      <td>2.833240</td>\n",
       "      <td>144.032993</td>\n",
       "      <td>1.272792e-01</td>\n",
       "      <td>2.781178</td>\n",
       "    </tr>\n",
       "    <tr>\n",
       "      <th>686</th>\n",
       "      <td>147.07160</td>\n",
       "      <td>0.132147</td>\n",
       "      <td>2.905169</td>\n",
       "      <td>146.807436</td>\n",
       "      <td>1.330519e-01</td>\n",
       "      <td>2.805131</td>\n",
       "    </tr>\n",
       "    <tr>\n",
       "      <th>687</th>\n",
       "      <td>149.61860</td>\n",
       "      <td>0.140401</td>\n",
       "      <td>2.754945</td>\n",
       "      <td>149.607558</td>\n",
       "      <td>1.390530e-01</td>\n",
       "      <td>2.823518</td>\n",
       "    </tr>\n",
       "    <tr>\n",
       "      <th>688</th>\n",
       "      <td>152.22050</td>\n",
       "      <td>0.143805</td>\n",
       "      <td>2.969367</td>\n",
       "      <td>152.428114</td>\n",
       "      <td>1.451687e-01</td>\n",
       "      <td>2.836786</td>\n",
       "    </tr>\n",
       "    <tr>\n",
       "      <th>689</th>\n",
       "      <td>155.16640</td>\n",
       "      <td>0.148199</td>\n",
       "      <td>2.797327</td>\n",
       "      <td>155.264134</td>\n",
       "      <td>1.512868e-01</td>\n",
       "      <td>2.845171</td>\n",
       "    </tr>\n",
       "    <tr>\n",
       "      <th>690</th>\n",
       "      <td>158.01030</td>\n",
       "      <td>0.159320</td>\n",
       "      <td>2.643090</td>\n",
       "      <td>158.110932</td>\n",
       "      <td>1.572988e-01</td>\n",
       "      <td>2.848671</td>\n",
       "    </tr>\n",
       "    <tr>\n",
       "      <th>691</th>\n",
       "      <td>161.15630</td>\n",
       "      <td>0.163239</td>\n",
       "      <td>3.010232</td>\n",
       "      <td>160.963358</td>\n",
       "      <td>1.631022e-01</td>\n",
       "      <td>2.847047</td>\n",
       "    </tr>\n",
       "    <tr>\n",
       "      <th>692</th>\n",
       "      <td>163.91120</td>\n",
       "      <td>0.170709</td>\n",
       "      <td>2.719047</td>\n",
       "      <td>163.816169</td>\n",
       "      <td>1.686023e-01</td>\n",
       "      <td>2.839841</td>\n",
       "    </tr>\n",
       "    <tr>\n",
       "      <th>693</th>\n",
       "      <td>166.71320</td>\n",
       "      <td>0.176760</td>\n",
       "      <td>2.800348</td>\n",
       "      <td>166.663443</td>\n",
       "      <td>1.737139e-01</td>\n",
       "      <td>2.826418</td>\n",
       "    </tr>\n",
       "    <tr>\n",
       "      <th>694</th>\n",
       "      <td>169.37470</td>\n",
       "      <td>0.176335</td>\n",
       "      <td>2.783027</td>\n",
       "      <td>169.498404</td>\n",
       "      <td>1.783626e-01</td>\n",
       "      <td>2.806019</td>\n",
       "    </tr>\n",
       "    <tr>\n",
       "      <th>695</th>\n",
       "      <td>172.10640</td>\n",
       "      <td>0.179375</td>\n",
       "      <td>2.783685</td>\n",
       "      <td>172.313670</td>\n",
       "      <td>1.824861e-01</td>\n",
       "      <td>2.777831</td>\n",
       "    </tr>\n",
       "    <tr>\n",
       "      <th>696</th>\n",
       "      <td>175.20700</td>\n",
       "      <td>0.187543</td>\n",
       "      <td>2.809252</td>\n",
       "      <td>175.100808</td>\n",
       "      <td>1.860351e-01</td>\n",
       "      <td>2.741065</td>\n",
       "    </tr>\n",
       "    <tr>\n",
       "      <th>697</th>\n",
       "      <td>177.74030</td>\n",
       "      <td>0.191993</td>\n",
       "      <td>2.623035</td>\n",
       "      <td>177.850782</td>\n",
       "      <td>1.889738e-01</td>\n",
       "      <td>2.695033</td>\n",
       "    </tr>\n",
       "    <tr>\n",
       "      <th>698</th>\n",
       "      <td>180.41470</td>\n",
       "      <td>0.188723</td>\n",
       "      <td>2.511529</td>\n",
       "      <td>180.553610</td>\n",
       "      <td>1.912805e-01</td>\n",
       "      <td>2.639223</td>\n",
       "    </tr>\n",
       "    <tr>\n",
       "      <th>699</th>\n",
       "      <td>183.01430</td>\n",
       "      <td>0.195082</td>\n",
       "      <td>2.477528</td>\n",
       "      <td>183.199066</td>\n",
       "      <td>1.929474e-01</td>\n",
       "      <td>2.573373</td>\n",
       "    </tr>\n",
       "    <tr>\n",
       "      <th>700</th>\n",
       "      <td>185.62310</td>\n",
       "      <td>0.196620</td>\n",
       "      <td>2.441744</td>\n",
       "      <td>185.776772</td>\n",
       "      <td>1.939798e-01</td>\n",
       "      <td>2.497515</td>\n",
       "    </tr>\n",
       "    <tr>\n",
       "      <th>701</th>\n",
       "      <td>188.33450</td>\n",
       "      <td>0.193118</td>\n",
       "      <td>2.201386</td>\n",
       "      <td>188.276463</td>\n",
       "      <td>1.943956e-01</td>\n",
       "      <td>2.412015</td>\n",
       "    </tr>\n",
       "    <tr>\n",
       "      <th>702</th>\n",
       "      <td>190.90340</td>\n",
       "      <td>0.194716</td>\n",
       "      <td>2.410297</td>\n",
       "      <td>190.688099</td>\n",
       "      <td>1.942248e-01</td>\n",
       "      <td>2.317586</td>\n",
       "    </tr>\n",
       "    <tr>\n",
       "      <th>703</th>\n",
       "      <td>193.30270</td>\n",
       "      <td>0.192340</td>\n",
       "      <td>2.217294</td>\n",
       "      <td>193.002919</td>\n",
       "      <td>1.935067e-01</td>\n",
       "      <td>2.215277</td>\n",
       "    </tr>\n",
       "    <tr>\n",
       "      <th>704</th>\n",
       "      <td>195.24250</td>\n",
       "      <td>0.191259</td>\n",
       "      <td>2.103453</td>\n",
       "      <td>195.212997</td>\n",
       "      <td>1.922889e-01</td>\n",
       "      <td>2.106443</td>\n",
       "    </tr>\n",
       "    <tr>\n",
       "      <th>705</th>\n",
       "      <td>197.14010</td>\n",
       "      <td>0.190990</td>\n",
       "      <td>1.968279</td>\n",
       "      <td>197.311935</td>\n",
       "      <td>1.906257e-01</td>\n",
       "      <td>1.992692</td>\n",
       "    </tr>\n",
       "    <tr>\n",
       "      <th>706</th>\n",
       "      <td>199.06860</td>\n",
       "      <td>0.189454</td>\n",
       "      <td>1.776298</td>\n",
       "      <td>199.295242</td>\n",
       "      <td>1.885752e-01</td>\n",
       "      <td>1.875819</td>\n",
       "    </tr>\n",
       "    <tr>\n",
       "      <th>707</th>\n",
       "      <td>201.07260</td>\n",
       "      <td>0.186601</td>\n",
       "      <td>1.872312</td>\n",
       "      <td>201.160106</td>\n",
       "      <td>1.861977e-01</td>\n",
       "      <td>1.757731</td>\n",
       "    </tr>\n",
       "    <tr>\n",
       "      <th>708</th>\n",
       "      <td>202.82560</td>\n",
       "      <td>0.185219</td>\n",
       "      <td>1.586984</td>\n",
       "      <td>202.905759</td>\n",
       "      <td>1.835537e-01</td>\n",
       "      <td>1.640364</td>\n",
       "    </tr>\n",
       "    <tr>\n",
       "      <th>709</th>\n",
       "      <td>204.39600</td>\n",
       "      <td>0.184360</td>\n",
       "      <td>1.497659</td>\n",
       "      <td>204.533147</td>\n",
       "      <td>1.807018e-01</td>\n",
       "      <td>1.525603</td>\n",
       "    </tr>\n",
       "    <tr>\n",
       "      <th>710</th>\n",
       "      <td>206.04460</td>\n",
       "      <td>0.181759</td>\n",
       "      <td>1.261351</td>\n",
       "      <td>206.045611</td>\n",
       "      <td>1.776967e-01</td>\n",
       "      <td>1.415213</td>\n",
       "    </tr>\n",
       "    <tr>\n",
       "      <th>711</th>\n",
       "      <td>207.01500</td>\n",
       "      <td>0.176232</td>\n",
       "      <td>1.441483</td>\n",
       "      <td>207.447710</td>\n",
       "      <td>1.745888e-01</td>\n",
       "      <td>1.310781</td>\n",
       "    </tr>\n",
       "  </tbody>\n",
       "</table>\n",
       "<p>712 rows × 6 columns</p>\n",
       "</div>"
      ],
      "text/plain": [
       "           rho       phi   rho_dot        grho          gphi  grho_dot\n",
       "0      8.46642  0.028760 -3.040350    8.603633  2.906158e-02 -2.999023\n",
       "1      8.57101  0.028232 -0.010526    8.453697  2.957717e-02  0.000000\n",
       "2      8.42927  0.030143 -1.858130    8.353742  2.993118e-02 -1.818975\n",
       "3      7.93510  0.023744 -3.810770    8.052484  2.483961e-02 -4.023362\n",
       "4      7.61428  0.020465 -3.220520    7.701461  1.947806e-02 -2.999251\n",
       "5      7.50876  0.012703 -1.897650    7.450671  1.342215e-02 -1.828527\n",
       "6      7.20598  0.000684 -2.795360    7.200000  1.319374e-07 -2.728510\n",
       "7      6.74737 -0.021222 -1.670690    6.951619 -2.157938e-02 -1.779307\n",
       "8      6.67866 -0.051930 -2.023790    6.759068 -5.180531e-02 -1.894473\n",
       "9      6.63205 -0.084090 -0.814970    6.622877 -8.314108e-02 -0.829487\n",
       "10     6.46217 -0.130812 -0.356062    6.555341 -1.300314e-01 -0.429745\n",
       "11     6.49021 -0.179219 -1.239440    6.453294 -1.791605e-01 -1.465706\n",
       "12     6.59968 -0.226407  1.738350    6.464712 -2.262191e-01  1.702755\n",
       "13     6.57796 -0.279439 -0.211523    6.552099 -2.782997e-01 -0.137286\n",
       "14     6.66141 -0.322252  1.756890    6.640783 -3.217506e-01  1.897332\n",
       "15     6.76596 -0.362640  0.855484    6.788409 -3.613569e-01  0.963806\n",
       "16     6.98232 -0.399959  1.898050    6.946222 -3.992208e-01  1.898553\n",
       "17     7.12938 -0.435020  1.414900    7.113543 -4.353533e-01  1.264155\n",
       "18     7.31886 -0.470836  2.212890    7.289719 -4.697825e-01  2.048169\n",
       "19     7.54560 -0.496140  2.709110    7.561911 -4.961805e-01  2.895763\n",
       "20     7.88400 -0.521437  2.206190    7.839005 -5.207284e-01  2.142844\n",
       "21     8.04387 -0.547179  2.239870    8.077747 -5.467888e-01  2.195172\n",
       "22     8.36350 -0.567708  1.675280    8.294727 -5.662669e-01  1.744460\n",
       "23     8.50541 -0.582556  2.234090    8.514693 -5.847453e-01  2.261494\n",
       "24     8.88902 -0.604494  3.057650    8.806957 -6.037493e-01  3.046604\n",
       "25     8.97814 -0.622421  2.428270    9.102198 -6.215266e-01  2.324825\n",
       "26     9.47620 -0.634680  2.540480    9.370432 -6.338963e-01  2.544023\n",
       "27     9.53172 -0.647271  2.403060    9.640021 -6.455758e-01  2.368963\n",
       "28     9.89957 -0.659824  3.585300    9.941454 -6.606021e-01  3.417629\n",
       "29    10.40990 -0.667850  2.532180   10.253048 -6.678865e-01  2.552444\n",
       "..         ...       ...       ...         ...           ...       ...\n",
       "682  135.91930  0.108050  2.575841  135.924341  1.124411e-01  2.669229\n",
       "683  138.64030  0.119401  2.882208  138.584721  1.168676e-01  2.713976\n",
       "684  141.39660  0.124353  2.863862  141.289964  1.218480e-01  2.751037\n",
       "685  143.77530  0.126547  2.833240  144.032993  1.272792e-01  2.781178\n",
       "686  147.07160  0.132147  2.905169  146.807436  1.330519e-01  2.805131\n",
       "687  149.61860  0.140401  2.754945  149.607558  1.390530e-01  2.823518\n",
       "688  152.22050  0.143805  2.969367  152.428114  1.451687e-01  2.836786\n",
       "689  155.16640  0.148199  2.797327  155.264134  1.512868e-01  2.845171\n",
       "690  158.01030  0.159320  2.643090  158.110932  1.572988e-01  2.848671\n",
       "691  161.15630  0.163239  3.010232  160.963358  1.631022e-01  2.847047\n",
       "692  163.91120  0.170709  2.719047  163.816169  1.686023e-01  2.839841\n",
       "693  166.71320  0.176760  2.800348  166.663443  1.737139e-01  2.826418\n",
       "694  169.37470  0.176335  2.783027  169.498404  1.783626e-01  2.806019\n",
       "695  172.10640  0.179375  2.783685  172.313670  1.824861e-01  2.777831\n",
       "696  175.20700  0.187543  2.809252  175.100808  1.860351e-01  2.741065\n",
       "697  177.74030  0.191993  2.623035  177.850782  1.889738e-01  2.695033\n",
       "698  180.41470  0.188723  2.511529  180.553610  1.912805e-01  2.639223\n",
       "699  183.01430  0.195082  2.477528  183.199066  1.929474e-01  2.573373\n",
       "700  185.62310  0.196620  2.441744  185.776772  1.939798e-01  2.497515\n",
       "701  188.33450  0.193118  2.201386  188.276463  1.943956e-01  2.412015\n",
       "702  190.90340  0.194716  2.410297  190.688099  1.942248e-01  2.317586\n",
       "703  193.30270  0.192340  2.217294  193.002919  1.935067e-01  2.215277\n",
       "704  195.24250  0.191259  2.103453  195.212997  1.922889e-01  2.106443\n",
       "705  197.14010  0.190990  1.968279  197.311935  1.906257e-01  1.992692\n",
       "706  199.06860  0.189454  1.776298  199.295242  1.885752e-01  1.875819\n",
       "707  201.07260  0.186601  1.872312  201.160106  1.861977e-01  1.757731\n",
       "708  202.82560  0.185219  1.586984  202.905759  1.835537e-01  1.640364\n",
       "709  204.39600  0.184360  1.497659  204.533147  1.807018e-01  1.525603\n",
       "710  206.04460  0.181759  1.261351  206.045611  1.776967e-01  1.415213\n",
       "711  207.01500  0.176232  1.441483  207.447710  1.745888e-01  1.310781\n",
       "\n",
       "[712 rows x 6 columns]"
      ]
     },
     "execution_count": 9,
     "metadata": {},
     "output_type": "execute_result"
    }
   ],
   "source": [
    "ghs=[ np.hstack([z[0],z[1],z[2],calc_hx(z[3],z[4],z[5],z[6])]) for z in radar_df.as_matrix(['rho','phi','rho_dot','gpx', 'gpy', 'gvx', 'gvy'])]\n",
    "\n",
    "gr_df = pd.DataFrame(ghs)\n",
    "gr_df.columns = ['rho','phi','rho_dot','grho','gphi','grho_dot']\n",
    "vrhodata=np.array(gr_df['grho'].values -gr_df['rho'].values)\n",
    "vphidata=np.array(gr_df['gphi'].values -gr_df['phi'].values)\n",
    "vrhodotdata=np.array(gr_df['grho_dot'].values -gr_df['rho_dot'].values)\n",
    "gr_df\n",
    "# radarg_df=pd.concat([radar_df, gr_df], right_index=True, left_index=True)\n",
    "# radarg_df"
   ]
  },
  {
   "cell_type": "code",
   "execution_count": 10,
   "metadata": {
    "collapsed": false
   },
   "outputs": [
    {
     "data": {
      "text/plain": [
       "[<matplotlib.lines.Line2D at 0x112b2edd8>]"
      ]
     },
     "execution_count": 10,
     "metadata": {},
     "output_type": "execute_result"
    },
    {
     "data": {
      "image/png": "[encoded data removed]",
      "text/plain": [
       "<matplotlib.figure.Figure at 0x112b2ee10>"
      ]
     },
     "metadata": {},
     "output_type": "display_data"
    }
   ],
   "source": [
    "plt.plot(xdata, ydata, 'b-', label='data')\n",
    "plt.plot(gpxdata, gpydata, 'g-', label='gt')"
   ]
  },
  {
   "cell_type": "code",
   "execution_count": 11,
   "metadata": {
    "collapsed": false
   },
   "outputs": [
    {
     "data": {
      "text/plain": [
       "[<matplotlib.lines.Line2D at 0x112b45898>]"
      ]
     },
     "execution_count": 11,
     "metadata": {},
     "output_type": "execute_result"
    },
    {
     "data": {
      "image/png": "[encoded data removed]",
      "text/plain": [
       "<matplotlib.figure.Figure at 0x112b2e400>"
      ]
     },
     "metadata": {},
     "output_type": "display_data"
    }
   ],
   "source": [
    "plt.plot(vxdata,vydata)"
   ]
  },
  {
   "cell_type": "code",
   "execution_count": 12,
   "metadata": {
    "collapsed": false
   },
   "outputs": [
    {
     "data": {
      "text/plain": [
       "[<matplotlib.lines.Line2D at 0x115181ac8>]"
      ]
     },
     "execution_count": 12,
     "metadata": {},
     "output_type": "execute_result"
    },
    {
     "data": {
      "image/png": "[encoded data removed]",
      "text/plain": [
       "<matplotlib.figure.Figure at 0x109137d68>"
      ]
     },
     "metadata": {},
     "output_type": "display_data"
    }
   ],
   "source": [
    "plt.plot(vxdata)"
   ]
  },
  {
   "cell_type": "code",
   "execution_count": 13,
   "metadata": {
    "collapsed": false
   },
   "outputs": [
    {
     "data": {
      "text/plain": [
       "[<matplotlib.lines.Line2D at 0x115309400>]"
      ]
     },
     "execution_count": 13,
     "metadata": {},
     "output_type": "execute_result"
    },
    {
     "data": {
      "image/png": "[encoded data removed]",
      "text/plain": [
       "<matplotlib.figure.Figure at 0x115360a58>"
      ]
     },
     "metadata": {},
     "output_type": "display_data"
    }
   ],
   "source": [
    "plt.plot(vydata)"
   ]
  },
  {
   "cell_type": "code",
   "execution_count": 14,
   "metadata": {
    "collapsed": false
   },
   "outputs": [
    {
     "data": {
      "text/plain": [
       "array([[ 1540.56093104,  1540.77520691],\n",
       "       [ 1540.77520691,  1540.99632988]])"
      ]
     },
     "execution_count": 14,
     "metadata": {},
     "output_type": "execute_result"
    }
   ],
   "source": [
    "np.cov(np.vstack((xdata,gpxdata)))"
   ]
  },
  {
   "cell_type": "code",
   "execution_count": 15,
   "metadata": {
    "collapsed": true
   },
   "outputs": [],
   "source": [
    "hist, bin_edges = np.histogram(xdata, density=True)"
   ]
  },
  {
   "cell_type": "code",
   "execution_count": 16,
   "metadata": {
    "collapsed": false
   },
   "outputs": [
    {
     "data": {
      "text/plain": [
       "array([ 0.04275643,  0.00055081,  0.00055081,  0.00061966,  0.00123932,\n",
       "        0.00089506,  0.00055081,  0.00055081,  0.00055081,  0.00075736])"
      ]
     },
     "execution_count": 16,
     "metadata": {},
     "output_type": "execute_result"
    }
   ],
   "source": [
    "hist"
   ]
  },
  {
   "cell_type": "code",
   "execution_count": 17,
   "metadata": {
    "collapsed": false
   },
   "outputs": [
    {
     "data": {
      "text/plain": [
       "(array([  1.,   0.,   0.,   0.,   0.,   0.,   0.,   0.,   0.,   0.,   0.,\n",
       "          0.,   0.,   0.,   0.,   0.,   0.,   0.,   0.,   0.,   0.,   0.,\n",
       "          1.,   0.,   0.,   0.,   0.,   0.,   0.,   0.,   0.,   0.,   1.,\n",
       "          0.,   0.,   0.,   0.,   0.,   0.,   0.,   0.,   0.,   0.,   0.,\n",
       "          1.,   0.,   2.,   0.,   1.,   0.,   0.,   0.,   0.,   1.,   0.,\n",
       "          0.,   0.,   0.,   0.,   0.,   1.,   0.,   1.,   1.,   1.,   0.,\n",
       "          0.,   2.,   0.,   1.,   0.,   0.,   2.,   0.,   0.,   0.,   0.,\n",
       "          0.,   0.,   0.,   1.,   0.,   0.,   0.,   0.,   0.,   0.,   0.,\n",
       "          1.,   0.,   1.,   0.,   1.,   0.,   0.,   3.,   1.,   0.,   0.,\n",
       "          0.,   0.,   0.,   0.,   1.,   2.,   0.,   0.,   2.,   1.,   0.,\n",
       "          0.,   0.,   0.,   1.,   1.,   0.,   0.,   2.,   3.,   0.,   1.,\n",
       "          3.,   1.,   0.,   4.,   3.,   9.,  26.,  37.,  63.,  76.,  84.,\n",
       "         94.,  76.,  50.,  44.,  23.,  21.,   8.,   0.,   2.,   1.,   4.,\n",
       "          1.,   1.,   1.,   1.,   0.,   1.,   2.,   0.,   0.,   0.,   1.,\n",
       "          0.,   0.,   2.,   0.,   0.,   0.,   0.,   2.,   0.,   0.,   0.,\n",
       "          1.,   1.,   0.,   0.,   0.,   2.,   2.,   0.,   0.,   0.,   0.,\n",
       "          1.,   0.,   0.,   1.,   1.,   1.,   2.,   2.,   2.,   0.,   0.,\n",
       "          1.,   0.,   0.,   1.,   0.,   0.,   0.,   0.,   0.,   0.,   0.,\n",
       "          0.,   0.,   0.,   1.,   1.,   1.,   0.,   0.,   0.,   0.,   0.,\n",
       "          0.,   1.,   0.,   1.,   0.,   0.,   1.,   1.,   1.,   0.,   1.,\n",
       "          0.,   1.,   0.,   0.,   0.,   1.,   1.,   1.,   0.,   0.,   0.,\n",
       "          0.,   0.,   0.,   0.,   0.,   0.,   0.,   0.,   0.,   1.]),\n",
       " array([-0.48905   , -0.48535199, -0.48165398, -0.47795598, -0.47425797,\n",
       "        -0.47055996, -0.46686195, -0.46316394, -0.45946593, -0.45576793,\n",
       "        -0.45206992, -0.44837191, -0.4446739 , -0.44097589, -0.43727788,\n",
       "        -0.43357988, -0.42988187, -0.42618386, -0.42248585, -0.41878784,\n",
       "        -0.41508983, -0.41139183, -0.40769382, -0.40399581, -0.4002978 ,\n",
       "        -0.39659979, -0.39290178, -0.38920378, -0.38550577, -0.38180776,\n",
       "        -0.37810975, -0.37441174, -0.37071373, -0.36701573, -0.36331772,\n",
       "        -0.35961971, -0.3559217 , -0.35222369, -0.34852568, -0.34482768,\n",
       "        -0.34112967, -0.33743166, -0.33373365, -0.33003564, -0.32633763,\n",
       "        -0.32263963, -0.31894162, -0.31524361, -0.3115456 , -0.30784759,\n",
       "        -0.30414959, -0.30045158, -0.29675357, -0.29305556, -0.28935755,\n",
       "        -0.28565954, -0.28196154, -0.27826353, -0.27456552, -0.27086751,\n",
       "        -0.2671695 , -0.26347149, -0.25977349, -0.25607548, -0.25237747,\n",
       "        -0.24867946, -0.24498145, -0.24128344, -0.23758544, -0.23388743,\n",
       "        -0.23018942, -0.22649141, -0.2227934 , -0.21909539, -0.21539739,\n",
       "        -0.21169938, -0.20800137, -0.20430336, -0.20060535, -0.19690734,\n",
       "        -0.19320934, -0.18951133, -0.18581332, -0.18211531, -0.1784173 ,\n",
       "        -0.17471929, -0.17102129, -0.16732328, -0.16362527, -0.15992726,\n",
       "        -0.15622925, -0.15253124, -0.14883324, -0.14513523, -0.14143722,\n",
       "        -0.13773921, -0.1340412 , -0.1303432 , -0.12664519, -0.12294718,\n",
       "        -0.11924917, -0.11555116, -0.11185315, -0.10815515, -0.10445714,\n",
       "        -0.10075913, -0.09706112, -0.09336311, -0.0896651 , -0.0859671 ,\n",
       "        -0.08226909, -0.07857108, -0.07487307, -0.07117506, -0.06747705,\n",
       "        -0.06377905, -0.06008104, -0.05638303, -0.05268502, -0.04898701,\n",
       "        -0.045289  , -0.041591  , -0.03789299, -0.03419498, -0.03049697,\n",
       "        -0.02679896, -0.02310095, -0.01940295, -0.01570494, -0.01200693,\n",
       "        -0.00830892, -0.00461091, -0.0009129 ,  0.0027851 ,  0.00648311,\n",
       "         0.01018112,  0.01387913,  0.01757714,  0.02127515,  0.02497315,\n",
       "         0.02867116,  0.03236917,  0.03606718,  0.03976519,  0.0434632 ,\n",
       "         0.0471612 ,  0.05085921,  0.05455722,  0.05825523,  0.06195324,\n",
       "         0.06565124,  0.06934925,  0.07304726,  0.07674527,  0.08044328,\n",
       "         0.08414129,  0.08783929,  0.0915373 ,  0.09523531,  0.09893332,\n",
       "         0.10263133,  0.10632934,  0.11002734,  0.11372535,  0.11742336,\n",
       "         0.12112137,  0.12481938,  0.12851739,  0.13221539,  0.1359134 ,\n",
       "         0.13961141,  0.14330942,  0.14700743,  0.15070544,  0.15440344,\n",
       "         0.15810145,  0.16179946,  0.16549747,  0.16919548,  0.17289349,\n",
       "         0.17659149,  0.1802895 ,  0.18398751,  0.18768552,  0.19138353,\n",
       "         0.19508154,  0.19877954,  0.20247755,  0.20617556,  0.20987357,\n",
       "         0.21357158,  0.21726959,  0.22096759,  0.2246656 ,  0.22836361,\n",
       "         0.23206162,  0.23575963,  0.23945763,  0.24315564,  0.24685365,\n",
       "         0.25055166,  0.25424967,  0.25794768,  0.26164568,  0.26534369,\n",
       "         0.2690417 ,  0.27273971,  0.27643772,  0.28013573,  0.28383373,\n",
       "         0.28753174,  0.29122975,  0.29492776,  0.29862577,  0.30232378,\n",
       "         0.30602178,  0.30971979,  0.3134178 ,  0.31711581,  0.32081382,\n",
       "         0.32451183,  0.32820983,  0.33190784,  0.33560585,  0.33930386,\n",
       "         0.34300187,  0.34669988,  0.35039788,  0.35409589,  0.3577939 ,\n",
       "         0.36149191,  0.36518992,  0.36888793,  0.37258593,  0.37628394,\n",
       "         0.37998195,  0.38367996,  0.38737797,  0.39107598,  0.39477398,\n",
       "         0.39847199,  0.40217   ]),\n",
       " <a list of 241 Patch objects>)"
      ]
     },
     "execution_count": 17,
     "metadata": {},
     "output_type": "execute_result"
    },
    {
     "data": {
      "image/png": "[encoded data removed]",
      "text/plain": [
       "<matplotlib.figure.Figure at 0x115393208>"
      ]
     },
     "metadata": {},
     "output_type": "display_data"
    }
   ],
   "source": [
    "plt.hist(vydata, bins='auto')"
   ]
  },
  {
   "cell_type": "code",
   "execution_count": 18,
   "metadata": {
    "collapsed": false
   },
   "outputs": [
    {
     "data": {
      "text/plain": [
       "(0.0068374897772981421, 0.0054887300686829819)"
      ]
     },
     "execution_count": 18,
     "metadata": {},
     "output_type": "execute_result"
    }
   ],
   "source": [
    "np.var(vxdata),np.var(vydata)"
   ]
  },
  {
   "cell_type": "code",
   "execution_count": 19,
   "metadata": {
    "collapsed": false
   },
   "outputs": [
    {
     "data": {
      "text/plain": [
       "(0.014412589090776581, 1.3610836622321855e-06, 0.011073356944289297)"
      ]
     },
     "execution_count": 19,
     "metadata": {},
     "output_type": "execute_result"
    }
   ],
   "source": [
    "np.var(vrhodata),np.var(vphidata),np.var(vrhodotdata)"
   ]
  },
  {
   "cell_type": "code",
   "execution_count": null,
   "metadata": {
    "collapsed": true
   },
   "outputs": [],
   "source": []
  }
 ],
 "metadata": {
  "kernelspec": {
   "display_name": "Python 3",
   "language": "python",
   "name": "python3"
  },
  "language_info": {
   "codemirror_mode": {
    "name": "ipython",
    "version": 3
   },
   "file_extension": ".py",
   "mimetype": "text/x-python",
   "name": "python",
   "nbconvert_exporter": "python",
   "pygments_lexer": "ipython3",
   "version": "3.6.0"
  }
 },
 "nbformat": 4,
 "nbformat_minor": 2
}
