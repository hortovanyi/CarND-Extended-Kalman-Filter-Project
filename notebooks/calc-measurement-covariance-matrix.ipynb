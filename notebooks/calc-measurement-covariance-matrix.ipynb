{
 "cells": [
  {
   "cell_type": "code",
   "execution_count": 185,
   "metadata": {
    "collapsed": true
   },
   "outputs": [],
   "source": [
    "import pandas as pd\n",
    "import math\n",
    "import numpy as np\n",
    "import matplotlib.pyplot as plt\n",
    "from scipy.optimize import curve_fit\n",
    "%matplotlib inline"
   ]
  },
  {
   "cell_type": "code",
   "execution_count": 186,
   "metadata": {
    "collapsed": false
   },
   "outputs": [],
   "source": [
    "my_cols=['c1','c2','c3','c4','c5','c6','c7','c8','c9']\n",
    "with open('../data/sample-laser-radar-measurement-data-1.txt') as f:\n",
    "    table = pd.read_table(f, sep='\\t', header=None, names=my_cols, lineterminator='\\n')\n",
    "    \n",
    "laser_df = table[table['c1']=='L']\n",
    "del laser_df['c9']\n",
    "del laser_df['c1']\n",
    "laser_df.columns = ['x','y','timestamp','gpx','gpy','gvx','gvy']\n",
    "\n",
    "radar_df = table[table['c1']=='R']\n",
    "del radar_df['c1']\n",
    "radar_df.columns = ['rho','phi','rho_dot','timestamp','gpx','gpy','gvx','gvy']"
   ]
  },
  {
   "cell_type": "code",
   "execution_count": 187,
   "metadata": {
    "collapsed": false
   },
   "outputs": [
    {
     "data": {
      "text/html": [
       "<div>\n",
       "<table border=\"1\" class=\"dataframe\">\n",
       "  <thead>\n",
       "    <tr style=\"text-align: right;\">\n",
       "      <th></th>\n",
       "      <th>x</th>\n",
       "      <th>y</th>\n",
       "      <th>timestamp</th>\n",
       "      <th>gpx</th>\n",
       "      <th>gpy</th>\n",
       "      <th>gvx</th>\n",
       "      <th>gvy</th>\n",
       "    </tr>\n",
       "  </thead>\n",
       "  <tbody>\n",
       "    <tr>\n",
       "      <th>1</th>\n",
       "      <td>8.44818</td>\n",
       "      <td>0.251553</td>\n",
       "      <td>1.477010e+15</td>\n",
       "      <td>8.45</td>\n",
       "      <td>0.25</td>\n",
       "      <td>-3.00027</td>\n",
       "      <td>0.00000</td>\n",
       "    </tr>\n",
       "    <tr>\n",
       "      <th>3</th>\n",
       "      <td>8.45582</td>\n",
       "      <td>0.253997</td>\n",
       "      <td>1.477010e+15</td>\n",
       "      <td>8.45</td>\n",
       "      <td>0.25</td>\n",
       "      <td>0.00000</td>\n",
       "      <td>0.00000</td>\n",
       "    </tr>\n",
       "    <tr>\n",
       "      <th>5</th>\n",
       "      <td>8.23962</td>\n",
       "      <td>0.249160</td>\n",
       "      <td>1.477010e+15</td>\n",
       "      <td>8.25</td>\n",
       "      <td>0.25</td>\n",
       "      <td>-1.81978</td>\n",
       "      <td>0.00000</td>\n",
       "    </tr>\n",
       "    <tr>\n",
       "      <th>7</th>\n",
       "      <td>7.84073</td>\n",
       "      <td>0.159858</td>\n",
       "      <td>1.477010e+15</td>\n",
       "      <td>7.85</td>\n",
       "      <td>0.15</td>\n",
       "      <td>-3.99972</td>\n",
       "      <td>-0.99993</td>\n",
       "    </tr>\n",
       "    <tr>\n",
       "      <th>9</th>\n",
       "      <td>7.54016</td>\n",
       "      <td>0.159641</td>\n",
       "      <td>1.477010e+15</td>\n",
       "      <td>7.55</td>\n",
       "      <td>0.15</td>\n",
       "      <td>-2.99982</td>\n",
       "      <td>0.00000</td>\n",
       "    </tr>\n",
       "  </tbody>\n",
       "</table>\n",
       "</div>"
      ],
      "text/plain": [
       "         x         y     timestamp   gpx   gpy      gvx      gvy\n",
       "1  8.44818  0.251553  1.477010e+15  8.45  0.25 -3.00027  0.00000\n",
       "3  8.45582  0.253997  1.477010e+15  8.45  0.25  0.00000  0.00000\n",
       "5  8.23962  0.249160  1.477010e+15  8.25  0.25 -1.81978  0.00000\n",
       "7  7.84073  0.159858  1.477010e+15  7.85  0.15 -3.99972 -0.99993\n",
       "9  7.54016  0.159641  1.477010e+15  7.55  0.15 -2.99982  0.00000"
      ]
     },
     "execution_count": 187,
     "metadata": {},
     "output_type": "execute_result"
    }
   ],
   "source": [
    "laser_df.head(5)"
   ]
  },
  {
   "cell_type": "code",
   "execution_count": 188,
   "metadata": {
    "collapsed": false
   },
   "outputs": [
    {
     "data": {
      "text/html": [
       "<div>\n",
       "<table border=\"1\" class=\"dataframe\">\n",
       "  <thead>\n",
       "    <tr style=\"text-align: right;\">\n",
       "      <th></th>\n",
       "      <th>rho</th>\n",
       "      <th>phi</th>\n",
       "      <th>rho_dot</th>\n",
       "      <th>timestamp</th>\n",
       "      <th>gpx</th>\n",
       "      <th>gpy</th>\n",
       "      <th>gvx</th>\n",
       "      <th>gvy</th>\n",
       "    </tr>\n",
       "  </thead>\n",
       "  <tbody>\n",
       "    <tr>\n",
       "      <th>0</th>\n",
       "      <td>8.46642</td>\n",
       "      <td>0.028760</td>\n",
       "      <td>-3.040350</td>\n",
       "      <td>1.477010e+15</td>\n",
       "      <td>8.60</td>\n",
       "      <td>0.25</td>\n",
       "      <td>-3.00029</td>\n",
       "      <td>0.00000</td>\n",
       "    </tr>\n",
       "    <tr>\n",
       "      <th>2</th>\n",
       "      <td>8.57101</td>\n",
       "      <td>0.028232</td>\n",
       "      <td>-0.010526</td>\n",
       "      <td>1.477010e+15</td>\n",
       "      <td>8.45</td>\n",
       "      <td>0.25</td>\n",
       "      <td>0.00000</td>\n",
       "      <td>0.00000</td>\n",
       "    </tr>\n",
       "    <tr>\n",
       "      <th>4</th>\n",
       "      <td>8.42927</td>\n",
       "      <td>0.030143</td>\n",
       "      <td>-1.858130</td>\n",
       "      <td>1.477010e+15</td>\n",
       "      <td>8.35</td>\n",
       "      <td>0.25</td>\n",
       "      <td>-1.81979</td>\n",
       "      <td>0.00000</td>\n",
       "    </tr>\n",
       "    <tr>\n",
       "      <th>6</th>\n",
       "      <td>7.93510</td>\n",
       "      <td>0.023744</td>\n",
       "      <td>-3.810770</td>\n",
       "      <td>1.477010e+15</td>\n",
       "      <td>8.05</td>\n",
       "      <td>0.20</td>\n",
       "      <td>-3.99976</td>\n",
       "      <td>-0.99994</td>\n",
       "    </tr>\n",
       "    <tr>\n",
       "      <th>8</th>\n",
       "      <td>7.61428</td>\n",
       "      <td>0.020465</td>\n",
       "      <td>-3.220520</td>\n",
       "      <td>1.477010e+15</td>\n",
       "      <td>7.70</td>\n",
       "      <td>0.15</td>\n",
       "      <td>-2.99982</td>\n",
       "      <td>0.00000</td>\n",
       "    </tr>\n",
       "  </tbody>\n",
       "</table>\n",
       "</div>"
      ],
      "text/plain": [
       "       rho       phi   rho_dot     timestamp   gpx   gpy      gvx      gvy\n",
       "0  8.46642  0.028760 -3.040350  1.477010e+15  8.60  0.25 -3.00029  0.00000\n",
       "2  8.57101  0.028232 -0.010526  1.477010e+15  8.45  0.25  0.00000  0.00000\n",
       "4  8.42927  0.030143 -1.858130  1.477010e+15  8.35  0.25 -1.81979  0.00000\n",
       "6  7.93510  0.023744 -3.810770  1.477010e+15  8.05  0.20 -3.99976 -0.99994\n",
       "8  7.61428  0.020465 -3.220520  1.477010e+15  7.70  0.15 -2.99982  0.00000"
      ]
     },
     "execution_count": 188,
     "metadata": {},
     "output_type": "execute_result"
    }
   ],
   "source": [
    "radar_df.head(5)"
   ]
  },
  {
   "cell_type": "code",
   "execution_count": 189,
   "metadata": {
    "collapsed": false
   },
   "outputs": [],
   "source": [
    "xdata=np.array(laser_df['x'].values)\n",
    "gpxdata=np.array(laser_df['gpx'].values)\n",
    "vxdata=gpxdata-xdata\n",
    "ydata=np.array(laser_df['y'].values)\n",
    "gpydata=np.array(laser_df['gpy'].values)\n",
    "vydata=gpydata-ydata"
   ]
  },
  {
   "cell_type": "code",
   "execution_count": 190,
   "metadata": {
    "collapsed": false
   },
   "outputs": [],
   "source": [
    "def calc_hx(gpx,gpy,gvx,gvy):\n",
    "    if gpx == 0:\n",
    "        return 0,0,0\n",
    "    rho = math.sqrt(gpx*gpx + gpy*gpy)\n",
    "    phi = math.atan(gpy/gpx)\n",
    "    rho_dot = (gpx*gvx + gpy*gvy)/rho\n",
    "    return np.array([rho,phi,rho_dot])"
   ]
  },
  {
   "cell_type": "code",
   "execution_count": 191,
   "metadata": {
    "collapsed": false
   },
   "outputs": [
    {
     "data": {
      "text/plain": [
       "array([ 2.09961656,  0.0248752 ,  2.19798918])"
      ]
     },
     "execution_count": 191,
     "metadata": {},
     "output_type": "execute_result"
    }
   ],
   "source": [
    "calc_hx(2.098967,0.052223,2.195949,0.109339)"
   ]
  },
  {
   "cell_type": "code",
   "execution_count": 192,
   "metadata": {
    "collapsed": false
   },
   "outputs": [
    {
     "data": {
      "text/plain": [
       "(0, 0, 0)"
      ]
     },
     "execution_count": 192,
     "metadata": {},
     "output_type": "execute_result"
    }
   ],
   "source": [
    "calc_hx(0,0,0,0)"
   ]
  },
  {
   "cell_type": "code",
   "execution_count": 203,
   "metadata": {
    "collapsed": false
   },
   "outputs": [
    {
     "data": {
      "text/html": [
       "<div>\n",
       "<table border=\"1\" class=\"dataframe\">\n",
       "  <thead>\n",
       "    <tr style=\"text-align: right;\">\n",
       "      <th></th>\n",
       "      <th>rho</th>\n",
       "      <th>phi</th>\n",
       "      <th>rho_dot</th>\n",
       "      <th>grho</th>\n",
       "      <th>gphi</th>\n",
       "      <th>grho_dot</th>\n",
       "    </tr>\n",
       "  </thead>\n",
       "  <tbody>\n",
       "    <tr>\n",
       "      <th>0</th>\n",
       "      <td>8.46642</td>\n",
       "      <td>0.028760</td>\n",
       "      <td>-3.040350</td>\n",
       "      <td>8.603633</td>\n",
       "      <td>2.906158e-02</td>\n",
       "      <td>-2.999023</td>\n",
       "    </tr>\n",
       "    <tr>\n",
       "      <th>1</th>\n",
       "      <td>8.57101</td>\n",
       "      <td>0.028232</td>\n",
       "      <td>-0.010526</td>\n",
       "      <td>8.453697</td>\n",
       "      <td>2.957717e-02</td>\n",
       "      <td>0.000000</td>\n",
       "    </tr>\n",
       "    <tr>\n",
       "      <th>2</th>\n",
       "      <td>8.42927</td>\n",
       "      <td>0.030143</td>\n",
       "      <td>-1.858130</td>\n",
       "      <td>8.353742</td>\n",
       "      <td>2.993118e-02</td>\n",
       "      <td>-1.818975</td>\n",
       "    </tr>\n",
       "    <tr>\n",
       "      <th>3</th>\n",
       "      <td>7.93510</td>\n",
       "      <td>0.023744</td>\n",
       "      <td>-3.810770</td>\n",
       "      <td>8.052484</td>\n",
       "      <td>2.483961e-02</td>\n",
       "      <td>-4.023362</td>\n",
       "    </tr>\n",
       "    <tr>\n",
       "      <th>4</th>\n",
       "      <td>7.61428</td>\n",
       "      <td>0.020465</td>\n",
       "      <td>-3.220520</td>\n",
       "      <td>7.701461</td>\n",
       "      <td>1.947806e-02</td>\n",
       "      <td>-2.999251</td>\n",
       "    </tr>\n",
       "    <tr>\n",
       "      <th>5</th>\n",
       "      <td>7.50876</td>\n",
       "      <td>0.012703</td>\n",
       "      <td>-1.897650</td>\n",
       "      <td>7.450671</td>\n",
       "      <td>1.342215e-02</td>\n",
       "      <td>-1.828527</td>\n",
       "    </tr>\n",
       "    <tr>\n",
       "      <th>6</th>\n",
       "      <td>7.20598</td>\n",
       "      <td>0.000684</td>\n",
       "      <td>-2.795360</td>\n",
       "      <td>7.200000</td>\n",
       "      <td>1.319374e-07</td>\n",
       "      <td>-2.728510</td>\n",
       "    </tr>\n",
       "    <tr>\n",
       "      <th>7</th>\n",
       "      <td>6.74737</td>\n",
       "      <td>-0.021222</td>\n",
       "      <td>-1.670690</td>\n",
       "      <td>6.951619</td>\n",
       "      <td>-2.157938e-02</td>\n",
       "      <td>-1.779307</td>\n",
       "    </tr>\n",
       "    <tr>\n",
       "      <th>8</th>\n",
       "      <td>6.67866</td>\n",
       "      <td>-0.051930</td>\n",
       "      <td>-2.023790</td>\n",
       "      <td>6.759068</td>\n",
       "      <td>-5.180531e-02</td>\n",
       "      <td>-1.894473</td>\n",
       "    </tr>\n",
       "    <tr>\n",
       "      <th>9</th>\n",
       "      <td>6.63205</td>\n",
       "      <td>-0.084090</td>\n",
       "      <td>-0.814970</td>\n",
       "      <td>6.622877</td>\n",
       "      <td>-8.314108e-02</td>\n",
       "      <td>-0.829487</td>\n",
       "    </tr>\n",
       "    <tr>\n",
       "      <th>10</th>\n",
       "      <td>6.46217</td>\n",
       "      <td>-0.130812</td>\n",
       "      <td>-0.356062</td>\n",
       "      <td>6.555341</td>\n",
       "      <td>-1.300314e-01</td>\n",
       "      <td>-0.429745</td>\n",
       "    </tr>\n",
       "    <tr>\n",
       "      <th>11</th>\n",
       "      <td>6.49021</td>\n",
       "      <td>-0.179219</td>\n",
       "      <td>-1.239440</td>\n",
       "      <td>6.453294</td>\n",
       "      <td>-1.791605e-01</td>\n",
       "      <td>-1.465706</td>\n",
       "    </tr>\n",
       "    <tr>\n",
       "      <th>12</th>\n",
       "      <td>6.59968</td>\n",
       "      <td>-0.226407</td>\n",
       "      <td>1.738350</td>\n",
       "      <td>6.464712</td>\n",
       "      <td>-2.262191e-01</td>\n",
       "      <td>1.702755</td>\n",
       "    </tr>\n",
       "    <tr>\n",
       "      <th>13</th>\n",
       "      <td>6.57796</td>\n",
       "      <td>-0.279439</td>\n",
       "      <td>-0.211523</td>\n",
       "      <td>6.552099</td>\n",
       "      <td>-2.782997e-01</td>\n",
       "      <td>-0.137286</td>\n",
       "    </tr>\n",
       "    <tr>\n",
       "      <th>14</th>\n",
       "      <td>6.66141</td>\n",
       "      <td>-0.322252</td>\n",
       "      <td>1.756890</td>\n",
       "      <td>6.640783</td>\n",
       "      <td>-3.217506e-01</td>\n",
       "      <td>1.897332</td>\n",
       "    </tr>\n",
       "    <tr>\n",
       "      <th>15</th>\n",
       "      <td>6.76596</td>\n",
       "      <td>-0.362640</td>\n",
       "      <td>0.855484</td>\n",
       "      <td>6.788409</td>\n",
       "      <td>-3.613569e-01</td>\n",
       "      <td>0.963806</td>\n",
       "    </tr>\n",
       "    <tr>\n",
       "      <th>16</th>\n",
       "      <td>6.98232</td>\n",
       "      <td>-0.399959</td>\n",
       "      <td>1.898050</td>\n",
       "      <td>6.946222</td>\n",
       "      <td>-3.992208e-01</td>\n",
       "      <td>1.898553</td>\n",
       "    </tr>\n",
       "    <tr>\n",
       "      <th>17</th>\n",
       "      <td>7.12938</td>\n",
       "      <td>-0.435020</td>\n",
       "      <td>1.414900</td>\n",
       "      <td>7.113543</td>\n",
       "      <td>-4.353533e-01</td>\n",
       "      <td>1.264155</td>\n",
       "    </tr>\n",
       "    <tr>\n",
       "      <th>18</th>\n",
       "      <td>7.31886</td>\n",
       "      <td>-0.470836</td>\n",
       "      <td>2.212890</td>\n",
       "      <td>7.289719</td>\n",
       "      <td>-4.697825e-01</td>\n",
       "      <td>2.048169</td>\n",
       "    </tr>\n",
       "    <tr>\n",
       "      <th>19</th>\n",
       "      <td>7.54560</td>\n",
       "      <td>-0.496140</td>\n",
       "      <td>2.709110</td>\n",
       "      <td>7.561911</td>\n",
       "      <td>-4.961805e-01</td>\n",
       "      <td>2.895763</td>\n",
       "    </tr>\n",
       "    <tr>\n",
       "      <th>20</th>\n",
       "      <td>7.88400</td>\n",
       "      <td>-0.521437</td>\n",
       "      <td>2.206190</td>\n",
       "      <td>7.839005</td>\n",
       "      <td>-5.207284e-01</td>\n",
       "      <td>2.142844</td>\n",
       "    </tr>\n",
       "    <tr>\n",
       "      <th>21</th>\n",
       "      <td>8.04387</td>\n",
       "      <td>-0.547179</td>\n",
       "      <td>2.239870</td>\n",
       "      <td>8.077747</td>\n",
       "      <td>-5.467888e-01</td>\n",
       "      <td>2.195172</td>\n",
       "    </tr>\n",
       "    <tr>\n",
       "      <th>22</th>\n",
       "      <td>8.36350</td>\n",
       "      <td>-0.567708</td>\n",
       "      <td>1.675280</td>\n",
       "      <td>8.294727</td>\n",
       "      <td>-5.662669e-01</td>\n",
       "      <td>1.744460</td>\n",
       "    </tr>\n",
       "    <tr>\n",
       "      <th>23</th>\n",
       "      <td>8.50541</td>\n",
       "      <td>-0.582556</td>\n",
       "      <td>2.234090</td>\n",
       "      <td>8.514693</td>\n",
       "      <td>-5.847453e-01</td>\n",
       "      <td>2.261494</td>\n",
       "    </tr>\n",
       "    <tr>\n",
       "      <th>24</th>\n",
       "      <td>8.88902</td>\n",
       "      <td>-0.604494</td>\n",
       "      <td>3.057650</td>\n",
       "      <td>8.806957</td>\n",
       "      <td>-6.037493e-01</td>\n",
       "      <td>3.046604</td>\n",
       "    </tr>\n",
       "    <tr>\n",
       "      <th>25</th>\n",
       "      <td>8.97814</td>\n",
       "      <td>-0.622421</td>\n",
       "      <td>2.428270</td>\n",
       "      <td>9.102198</td>\n",
       "      <td>-6.215266e-01</td>\n",
       "      <td>2.324825</td>\n",
       "    </tr>\n",
       "    <tr>\n",
       "      <th>26</th>\n",
       "      <td>9.47620</td>\n",
       "      <td>-0.634680</td>\n",
       "      <td>2.540480</td>\n",
       "      <td>9.370432</td>\n",
       "      <td>-6.338963e-01</td>\n",
       "      <td>2.544023</td>\n",
       "    </tr>\n",
       "    <tr>\n",
       "      <th>27</th>\n",
       "      <td>9.53172</td>\n",
       "      <td>-0.647271</td>\n",
       "      <td>2.403060</td>\n",
       "      <td>9.640021</td>\n",
       "      <td>-6.455758e-01</td>\n",
       "      <td>2.368963</td>\n",
       "    </tr>\n",
       "    <tr>\n",
       "      <th>28</th>\n",
       "      <td>9.89957</td>\n",
       "      <td>-0.659824</td>\n",
       "      <td>3.585300</td>\n",
       "      <td>9.941454</td>\n",
       "      <td>-6.606021e-01</td>\n",
       "      <td>3.417629</td>\n",
       "    </tr>\n",
       "    <tr>\n",
       "      <th>29</th>\n",
       "      <td>10.40990</td>\n",
       "      <td>-0.667850</td>\n",
       "      <td>2.532180</td>\n",
       "      <td>10.253048</td>\n",
       "      <td>-6.678865e-01</td>\n",
       "      <td>2.552444</td>\n",
       "    </tr>\n",
       "    <tr>\n",
       "      <th>...</th>\n",
       "      <td>...</td>\n",
       "      <td>...</td>\n",
       "      <td>...</td>\n",
       "      <td>...</td>\n",
       "      <td>...</td>\n",
       "      <td>...</td>\n",
       "    </tr>\n",
       "    <tr>\n",
       "      <th>582</th>\n",
       "      <td>9.99123</td>\n",
       "      <td>-0.978202</td>\n",
       "      <td>-0.644215</td>\n",
       "      <td>9.943088</td>\n",
       "      <td>-9.786096e-01</td>\n",
       "      <td>-0.493811</td>\n",
       "    </tr>\n",
       "    <tr>\n",
       "      <th>583</th>\n",
       "      <td>10.02350</td>\n",
       "      <td>-0.949248</td>\n",
       "      <td>-0.364583</td>\n",
       "      <td>9.892674</td>\n",
       "      <td>-9.505468e-01</td>\n",
       "      <td>-0.422573</td>\n",
       "    </tr>\n",
       "    <tr>\n",
       "      <th>584</th>\n",
       "      <td>9.93472</td>\n",
       "      <td>-0.923430</td>\n",
       "      <td>-0.302353</td>\n",
       "      <td>9.850127</td>\n",
       "      <td>-9.222191e-01</td>\n",
       "      <td>-0.350946</td>\n",
       "    </tr>\n",
       "    <tr>\n",
       "      <th>585</th>\n",
       "      <td>9.62546</td>\n",
       "      <td>-0.889940</td>\n",
       "      <td>-0.832488</td>\n",
       "      <td>9.776630</td>\n",
       "      <td>-8.904644e-01</td>\n",
       "      <td>-0.975945</td>\n",
       "    </tr>\n",
       "    <tr>\n",
       "      <th>586</th>\n",
       "      <td>9.67107</td>\n",
       "      <td>-0.855073</td>\n",
       "      <td>0.418138</td>\n",
       "      <td>9.745897</td>\n",
       "      <td>-8.543794e-01</td>\n",
       "      <td>0.419379</td>\n",
       "    </tr>\n",
       "    <tr>\n",
       "      <th>587</th>\n",
       "      <td>9.76103</td>\n",
       "      <td>-0.825526</td>\n",
       "      <td>0.489049</td>\n",
       "      <td>9.801148</td>\n",
       "      <td>-8.250885e-01</td>\n",
       "      <td>0.566225</td>\n",
       "    </tr>\n",
       "    <tr>\n",
       "      <th>588</th>\n",
       "      <td>9.87674</td>\n",
       "      <td>-0.794649</td>\n",
       "      <td>0.607961</td>\n",
       "      <td>9.864710</td>\n",
       "      <td>-7.961504e-01</td>\n",
       "      <td>0.608717</td>\n",
       "    </tr>\n",
       "    <tr>\n",
       "      <th>589</th>\n",
       "      <td>9.86232</td>\n",
       "      <td>-0.763353</td>\n",
       "      <td>0.035138</td>\n",
       "      <td>9.901768</td>\n",
       "      <td>-7.639729e-01</td>\n",
       "      <td>0.055007</td>\n",
       "    </tr>\n",
       "    <tr>\n",
       "      <th>590</th>\n",
       "      <td>9.85837</td>\n",
       "      <td>-0.736116</td>\n",
       "      <td>0.148173</td>\n",
       "      <td>9.911862</td>\n",
       "      <td>-7.354398e-01</td>\n",
       "      <td>0.128538</td>\n",
       "    </tr>\n",
       "    <tr>\n",
       "      <th>591</th>\n",
       "      <td>9.98613</td>\n",
       "      <td>-0.706558</td>\n",
       "      <td>1.372080</td>\n",
       "      <td>10.000500</td>\n",
       "      <td>-7.075417e-01</td>\n",
       "      <td>1.481202</td>\n",
       "    </tr>\n",
       "    <tr>\n",
       "      <th>592</th>\n",
       "      <td>10.13170</td>\n",
       "      <td>-0.684623</td>\n",
       "      <td>0.777791</td>\n",
       "      <td>10.128302</td>\n",
       "      <td>-6.839928e-01</td>\n",
       "      <td>0.833997</td>\n",
       "    </tr>\n",
       "    <tr>\n",
       "      <th>593</th>\n",
       "      <td>10.18370</td>\n",
       "      <td>-0.658568</td>\n",
       "      <td>0.969682</td>\n",
       "      <td>10.230958</td>\n",
       "      <td>-6.571855e-01</td>\n",
       "      <td>1.049589</td>\n",
       "    </tr>\n",
       "    <tr>\n",
       "      <th>594</th>\n",
       "      <td>10.24990</td>\n",
       "      <td>-0.623097</td>\n",
       "      <td>1.269120</td>\n",
       "      <td>10.351932</td>\n",
       "      <td>-6.241798e-01</td>\n",
       "      <td>1.150271</td>\n",
       "    </tr>\n",
       "    <tr>\n",
       "      <th>595</th>\n",
       "      <td>10.43010</td>\n",
       "      <td>-0.594934</td>\n",
       "      <td>0.657942</td>\n",
       "      <td>10.442461</td>\n",
       "      <td>-5.946426e-01</td>\n",
       "      <td>0.487589</td>\n",
       "    </tr>\n",
       "    <tr>\n",
       "      <th>596</th>\n",
       "      <td>10.66860</td>\n",
       "      <td>-0.565194</td>\n",
       "      <td>1.343150</td>\n",
       "      <td>10.541940</td>\n",
       "      <td>-5.656379e-01</td>\n",
       "      <td>1.326745</td>\n",
       "    </tr>\n",
       "    <tr>\n",
       "      <th>597</th>\n",
       "      <td>10.63860</td>\n",
       "      <td>-0.537333</td>\n",
       "      <td>0.800178</td>\n",
       "      <td>10.650117</td>\n",
       "      <td>-5.371989e-01</td>\n",
       "      <td>0.631991</td>\n",
       "    </tr>\n",
       "    <tr>\n",
       "      <th>598</th>\n",
       "      <td>10.64680</td>\n",
       "      <td>-0.515691</td>\n",
       "      <td>1.143320</td>\n",
       "      <td>10.747674</td>\n",
       "      <td>-5.156839e-01</td>\n",
       "      <td>1.133921</td>\n",
       "    </tr>\n",
       "    <tr>\n",
       "      <th>599</th>\n",
       "      <td>11.02130</td>\n",
       "      <td>-0.491273</td>\n",
       "      <td>0.378567</td>\n",
       "      <td>10.826472</td>\n",
       "      <td>-4.905007e-01</td>\n",
       "      <td>0.319368</td>\n",
       "    </tr>\n",
       "    <tr>\n",
       "      <th>600</th>\n",
       "      <td>10.80760</td>\n",
       "      <td>-0.462569</td>\n",
       "      <td>0.808191</td>\n",
       "      <td>10.889674</td>\n",
       "      <td>-4.615942e-01</td>\n",
       "      <td>0.817757</td>\n",
       "    </tr>\n",
       "    <tr>\n",
       "      <th>601</th>\n",
       "      <td>10.97690</td>\n",
       "      <td>-0.436747</td>\n",
       "      <td>0.773696</td>\n",
       "      <td>10.982941</td>\n",
       "      <td>-4.371772e-01</td>\n",
       "      <td>0.877339</td>\n",
       "    </tr>\n",
       "    <tr>\n",
       "      <th>602</th>\n",
       "      <td>11.35010</td>\n",
       "      <td>-0.410455</td>\n",
       "      <td>1.796910</td>\n",
       "      <td>11.128455</td>\n",
       "      <td>-4.113814e-01</td>\n",
       "      <td>1.771916</td>\n",
       "    </tr>\n",
       "    <tr>\n",
       "      <th>603</th>\n",
       "      <td>11.19340</td>\n",
       "      <td>-0.382691</td>\n",
       "      <td>-0.210545</td>\n",
       "      <td>11.216060</td>\n",
       "      <td>-3.838176e-01</td>\n",
       "      <td>-0.178304</td>\n",
       "    </tr>\n",
       "    <tr>\n",
       "      <th>604</th>\n",
       "      <td>11.26790</td>\n",
       "      <td>-0.358104</td>\n",
       "      <td>1.208070</td>\n",
       "      <td>11.265212</td>\n",
       "      <td>-3.582512e-01</td>\n",
       "      <td>1.065720</td>\n",
       "    </tr>\n",
       "    <tr>\n",
       "      <th>605</th>\n",
       "      <td>11.22140</td>\n",
       "      <td>-0.330063</td>\n",
       "      <td>0.887286</td>\n",
       "      <td>11.368927</td>\n",
       "      <td>-3.314860e-01</td>\n",
       "      <td>0.832130</td>\n",
       "    </tr>\n",
       "    <tr>\n",
       "      <th>606</th>\n",
       "      <td>11.32350</td>\n",
       "      <td>-0.300850</td>\n",
       "      <td>0.302095</td>\n",
       "      <td>11.417968</td>\n",
       "      <td>-3.023624e-01</td>\n",
       "      <td>0.061278</td>\n",
       "    </tr>\n",
       "    <tr>\n",
       "      <th>607</th>\n",
       "      <td>11.34170</td>\n",
       "      <td>-0.277495</td>\n",
       "      <td>1.377160</td>\n",
       "      <td>11.490213</td>\n",
       "      <td>-2.777019e-01</td>\n",
       "      <td>1.249700</td>\n",
       "    </tr>\n",
       "    <tr>\n",
       "      <th>608</th>\n",
       "      <td>11.51660</td>\n",
       "      <td>-0.252737</td>\n",
       "      <td>0.253884</td>\n",
       "      <td>11.569356</td>\n",
       "      <td>-2.533642e-01</td>\n",
       "      <td>0.196569</td>\n",
       "    </tr>\n",
       "    <tr>\n",
       "      <th>609</th>\n",
       "      <td>11.55470</td>\n",
       "      <td>-0.225803</td>\n",
       "      <td>-1.542700</td>\n",
       "      <td>11.497826</td>\n",
       "      <td>-2.281026e-01</td>\n",
       "      <td>-1.650378</td>\n",
       "    </tr>\n",
       "    <tr>\n",
       "      <th>610</th>\n",
       "      <td>11.46550</td>\n",
       "      <td>-0.201037</td>\n",
       "      <td>0.457362</td>\n",
       "      <td>11.433722</td>\n",
       "      <td>-2.025413e-01</td>\n",
       "      <td>0.341789</td>\n",
       "    </tr>\n",
       "    <tr>\n",
       "      <th>611</th>\n",
       "      <td>11.33650</td>\n",
       "      <td>-0.175531</td>\n",
       "      <td>0.442173</td>\n",
       "      <td>11.475626</td>\n",
       "      <td>-1.751770e-01</td>\n",
       "      <td>0.420216</td>\n",
       "    </tr>\n",
       "  </tbody>\n",
       "</table>\n",
       "<p>612 rows × 6 columns</p>\n",
       "</div>"
      ],
      "text/plain": [
       "          rho       phi   rho_dot       grho          gphi  grho_dot\n",
       "0     8.46642  0.028760 -3.040350   8.603633  2.906158e-02 -2.999023\n",
       "1     8.57101  0.028232 -0.010526   8.453697  2.957717e-02  0.000000\n",
       "2     8.42927  0.030143 -1.858130   8.353742  2.993118e-02 -1.818975\n",
       "3     7.93510  0.023744 -3.810770   8.052484  2.483961e-02 -4.023362\n",
       "4     7.61428  0.020465 -3.220520   7.701461  1.947806e-02 -2.999251\n",
       "5     7.50876  0.012703 -1.897650   7.450671  1.342215e-02 -1.828527\n",
       "6     7.20598  0.000684 -2.795360   7.200000  1.319374e-07 -2.728510\n",
       "7     6.74737 -0.021222 -1.670690   6.951619 -2.157938e-02 -1.779307\n",
       "8     6.67866 -0.051930 -2.023790   6.759068 -5.180531e-02 -1.894473\n",
       "9     6.63205 -0.084090 -0.814970   6.622877 -8.314108e-02 -0.829487\n",
       "10    6.46217 -0.130812 -0.356062   6.555341 -1.300314e-01 -0.429745\n",
       "11    6.49021 -0.179219 -1.239440   6.453294 -1.791605e-01 -1.465706\n",
       "12    6.59968 -0.226407  1.738350   6.464712 -2.262191e-01  1.702755\n",
       "13    6.57796 -0.279439 -0.211523   6.552099 -2.782997e-01 -0.137286\n",
       "14    6.66141 -0.322252  1.756890   6.640783 -3.217506e-01  1.897332\n",
       "15    6.76596 -0.362640  0.855484   6.788409 -3.613569e-01  0.963806\n",
       "16    6.98232 -0.399959  1.898050   6.946222 -3.992208e-01  1.898553\n",
       "17    7.12938 -0.435020  1.414900   7.113543 -4.353533e-01  1.264155\n",
       "18    7.31886 -0.470836  2.212890   7.289719 -4.697825e-01  2.048169\n",
       "19    7.54560 -0.496140  2.709110   7.561911 -4.961805e-01  2.895763\n",
       "20    7.88400 -0.521437  2.206190   7.839005 -5.207284e-01  2.142844\n",
       "21    8.04387 -0.547179  2.239870   8.077747 -5.467888e-01  2.195172\n",
       "22    8.36350 -0.567708  1.675280   8.294727 -5.662669e-01  1.744460\n",
       "23    8.50541 -0.582556  2.234090   8.514693 -5.847453e-01  2.261494\n",
       "24    8.88902 -0.604494  3.057650   8.806957 -6.037493e-01  3.046604\n",
       "25    8.97814 -0.622421  2.428270   9.102198 -6.215266e-01  2.324825\n",
       "26    9.47620 -0.634680  2.540480   9.370432 -6.338963e-01  2.544023\n",
       "27    9.53172 -0.647271  2.403060   9.640021 -6.455758e-01  2.368963\n",
       "28    9.89957 -0.659824  3.585300   9.941454 -6.606021e-01  3.417629\n",
       "29   10.40990 -0.667850  2.532180  10.253048 -6.678865e-01  2.552444\n",
       "..        ...       ...       ...        ...           ...       ...\n",
       "582   9.99123 -0.978202 -0.644215   9.943088 -9.786096e-01 -0.493811\n",
       "583  10.02350 -0.949248 -0.364583   9.892674 -9.505468e-01 -0.422573\n",
       "584   9.93472 -0.923430 -0.302353   9.850127 -9.222191e-01 -0.350946\n",
       "585   9.62546 -0.889940 -0.832488   9.776630 -8.904644e-01 -0.975945\n",
       "586   9.67107 -0.855073  0.418138   9.745897 -8.543794e-01  0.419379\n",
       "587   9.76103 -0.825526  0.489049   9.801148 -8.250885e-01  0.566225\n",
       "588   9.87674 -0.794649  0.607961   9.864710 -7.961504e-01  0.608717\n",
       "589   9.86232 -0.763353  0.035138   9.901768 -7.639729e-01  0.055007\n",
       "590   9.85837 -0.736116  0.148173   9.911862 -7.354398e-01  0.128538\n",
       "591   9.98613 -0.706558  1.372080  10.000500 -7.075417e-01  1.481202\n",
       "592  10.13170 -0.684623  0.777791  10.128302 -6.839928e-01  0.833997\n",
       "593  10.18370 -0.658568  0.969682  10.230958 -6.571855e-01  1.049589\n",
       "594  10.24990 -0.623097  1.269120  10.351932 -6.241798e-01  1.150271\n",
       "595  10.43010 -0.594934  0.657942  10.442461 -5.946426e-01  0.487589\n",
       "596  10.66860 -0.565194  1.343150  10.541940 -5.656379e-01  1.326745\n",
       "597  10.63860 -0.537333  0.800178  10.650117 -5.371989e-01  0.631991\n",
       "598  10.64680 -0.515691  1.143320  10.747674 -5.156839e-01  1.133921\n",
       "599  11.02130 -0.491273  0.378567  10.826472 -4.905007e-01  0.319368\n",
       "600  10.80760 -0.462569  0.808191  10.889674 -4.615942e-01  0.817757\n",
       "601  10.97690 -0.436747  0.773696  10.982941 -4.371772e-01  0.877339\n",
       "602  11.35010 -0.410455  1.796910  11.128455 -4.113814e-01  1.771916\n",
       "603  11.19340 -0.382691 -0.210545  11.216060 -3.838176e-01 -0.178304\n",
       "604  11.26790 -0.358104  1.208070  11.265212 -3.582512e-01  1.065720\n",
       "605  11.22140 -0.330063  0.887286  11.368927 -3.314860e-01  0.832130\n",
       "606  11.32350 -0.300850  0.302095  11.417968 -3.023624e-01  0.061278\n",
       "607  11.34170 -0.277495  1.377160  11.490213 -2.777019e-01  1.249700\n",
       "608  11.51660 -0.252737  0.253884  11.569356 -2.533642e-01  0.196569\n",
       "609  11.55470 -0.225803 -1.542700  11.497826 -2.281026e-01 -1.650378\n",
       "610  11.46550 -0.201037  0.457362  11.433722 -2.025413e-01  0.341789\n",
       "611  11.33650 -0.175531  0.442173  11.475626 -1.751770e-01  0.420216\n",
       "\n",
       "[612 rows x 6 columns]"
      ]
     },
     "execution_count": 203,
     "metadata": {},
     "output_type": "execute_result"
    }
   ],
   "source": [
    "ghs=[ np.hstack([z[0],z[1],z[2],calc_hx(z[3],z[4],z[5],z[6])]) for z in radar_df.as_matrix(['rho','phi','rho_dot','gpx', 'gpy', 'gvx', 'gvy'])]\n",
    "\n",
    "gr_df = pd.DataFrame(ghs)\n",
    "gr_df.columns = ['rho','phi','rho_dot','grho','gphi','grho_dot']\n",
    "vrhodata=np.array(gr_df['grho'].values -gr_df['rho'].values)\n",
    "vphidata=np.array(gr_df['gphi'].values -gr_df['phi'].values)\n",
    "vrhodotdata=np.array(gr_df['grho_dot'].values -gr_df['rho_dot'].values)\n",
    "gr_df\n",
    "# radarg_df=pd.concat([radar_df, gr_df], right_index=True, left_index=True)\n",
    "# radarg_df"
   ]
  },
  {
   "cell_type": "code",
   "execution_count": 99,
   "metadata": {
    "collapsed": false
   },
   "outputs": [
    {
     "data": {
      "text/plain": [
       "[<matplotlib.lines.Line2D at 0x11a88acc0>]"
      ]
     },
     "execution_count": 99,
     "metadata": {},
     "output_type": "execute_result"
    },
    {
     "data": {
      "image/png": "[encoded data removed]",
      "text/plain": [
       "<matplotlib.figure.Figure at 0x11a867e80>"
      ]
     },
     "metadata": {},
     "output_type": "display_data"
    }
   ],
   "source": [
    "plt.plot(xdata, ydata, 'b-', label='data')\n",
    "plt.plot(gpxdata, gpydata, 'g-', label='gt')"
   ]
  },
  {
   "cell_type": "code",
   "execution_count": 100,
   "metadata": {
    "collapsed": false
   },
   "outputs": [
    {
     "data": {
      "text/plain": [
       "[<matplotlib.lines.Line2D at 0x11aa98400>]"
      ]
     },
     "execution_count": 100,
     "metadata": {},
     "output_type": "execute_result"
    },
    {
     "data": {
      "image/png": "[encoded data removed]",
      "text/plain": [
       "<matplotlib.figure.Figure at 0x11a83fef0>"
      ]
     },
     "metadata": {},
     "output_type": "display_data"
    }
   ],
   "source": [
    "plt.plot(vxdata,vydata)"
   ]
  },
  {
   "cell_type": "code",
   "execution_count": 101,
   "metadata": {
    "collapsed": false
   },
   "outputs": [
    {
     "data": {
      "text/plain": [
       "[<matplotlib.lines.Line2D at 0x11ab88208>]"
      ]
     },
     "execution_count": 101,
     "metadata": {},
     "output_type": "execute_result"
    },
    {
     "data": {
      "image/png": "[encoded data removed]",
      "text/plain": [
       "<matplotlib.figure.Figure at 0x11aaa5630>"
      ]
     },
     "metadata": {},
     "output_type": "display_data"
    }
   ],
   "source": [
    "plt.plot(vxdata)"
   ]
  },
  {
   "cell_type": "code",
   "execution_count": 102,
   "metadata": {
    "collapsed": false
   },
   "outputs": [
    {
     "data": {
      "text/plain": [
       "[<matplotlib.lines.Line2D at 0x11ac792b0>]"
      ]
     },
     "execution_count": 102,
     "metadata": {},
     "output_type": "execute_result"
    },
    {
     "data": {
      "image/png": "[encoded data removed]",
      "text/plain": [
       "<matplotlib.figure.Figure at 0x11abb9630>"
      ]
     },
     "metadata": {},
     "output_type": "display_data"
    }
   ],
   "source": [
    "plt.plot(vydata)"
   ]
  },
  {
   "cell_type": "code",
   "execution_count": 103,
   "metadata": {
    "collapsed": false
   },
   "outputs": [
    {
     "data": {
      "text/plain": [
       "array([[ 3183.5714091 ,  3183.00285351],\n",
       "       [ 3183.00285351,  3182.48225559]])"
      ]
     },
     "execution_count": 103,
     "metadata": {},
     "output_type": "execute_result"
    }
   ],
   "source": [
    "np.cov(np.vstack((xdata,gpxdata)))"
   ]
  },
  {
   "cell_type": "code",
   "execution_count": 104,
   "metadata": {
    "collapsed": true
   },
   "outputs": [],
   "source": [
    "hist, bin_edges = np.histogram(xdata, density=True)"
   ]
  },
  {
   "cell_type": "code",
   "execution_count": 105,
   "metadata": {
    "collapsed": false
   },
   "outputs": [
    {
     "data": {
      "text/plain": [
       "array([ 0.00441197,  0.00392175,  0.00392175,  0.00441197,  0.00882394,\n",
       "        0.00637284,  0.00392175,  0.00392175,  0.00392175,  0.00539241])"
      ]
     },
     "execution_count": 105,
     "metadata": {},
     "output_type": "execute_result"
    }
   ],
   "source": [
    "hist"
   ]
  },
  {
   "cell_type": "code",
   "execution_count": 202,
   "metadata": {
    "collapsed": false
   },
   "outputs": [
    {
     "data": {
      "text/plain": [
       "(array([  1.,   3.,   9.,   9.,  24.,  30.,  53.,  65.,  64.,  72.,  86.,\n",
       "         54.,  41.,  42.,  21.,  17.,  18.,   2.,   0.,   1.]),\n",
       " array([-0.03049  , -0.0273935, -0.024297 , -0.0212005, -0.018104 ,\n",
       "        -0.0150075, -0.011911 , -0.0088145, -0.005718 , -0.0026215,\n",
       "         0.000475 ,  0.0035715,  0.006668 ,  0.0097645,  0.012861 ,\n",
       "         0.0159575,  0.019054 ,  0.0221505,  0.025247 ,  0.0283435,  0.03144  ]),\n",
       " <a list of 20 Patch objects>)"
      ]
     },
     "execution_count": 202,
     "metadata": {},
     "output_type": "execute_result"
    },
    {
     "data": {
      "image/png": "[encoded data removed]",
      "text/plain": [
       "<matplotlib.figure.Figure at 0x11a74eeb8>"
      ]
     },
     "metadata": {},
     "output_type": "display_data"
    }
   ],
   "source": [
    "plt.hist(vydata, bins='auto')"
   ]
  },
  {
   "cell_type": "code",
   "execution_count": 208,
   "metadata": {
    "collapsed": false
   },
   "outputs": [
    {
     "data": {
      "text/plain": [
       "(0.00010514691201033777, 0.00010193598986578901)"
      ]
     },
     "execution_count": 208,
     "metadata": {},
     "output_type": "execute_result"
    }
   ],
   "source": [
    "np.var(vxdata),np.var(vydata)"
   ]
  },
  {
   "cell_type": "code",
   "execution_count": 209,
   "metadata": {
    "collapsed": false
   },
   "outputs": [
    {
     "data": {
      "text/plain": [
       "(0.010369618168272726, 1.0680397690973507e-06, 0.011294795278015999)"
      ]
     },
     "execution_count": 209,
     "metadata": {},
     "output_type": "execute_result"
    }
   ],
   "source": [
    "np.var(vrhodata),np.var(vphidata),np.var(vrhodotdata)"
   ]
  },
  {
   "cell_type": "code",
   "execution_count": null,
   "metadata": {
    "collapsed": true
   },
   "outputs": [],
   "source": []
  }
 ],
 "metadata": {
  "kernelspec": {
   "display_name": "Python 3",
   "language": "python",
   "name": "python3"
  },
  "language_info": {
   "codemirror_mode": {
    "name": "ipython",
    "version": 3
   },
   "file_extension": ".py",
   "mimetype": "text/x-python",
   "name": "python",
   "nbconvert_exporter": "python",
   "pygments_lexer": "ipython3",
   "version": "3.6.0"
  }
 },
 "nbformat": 4,
 "nbformat_minor": 2
}
